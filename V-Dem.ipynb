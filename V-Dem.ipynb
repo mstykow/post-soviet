{
 "cells": [
  {
   "cell_type": "markdown",
   "metadata": {},
   "source": [
    "# Democratization Trends in Post-Soviet Countries"
   ]
  },
  {
   "cell_type": "markdown",
   "metadata": {},
   "source": [
    "This project analyzes democratization trends in post-soviet countries."
   ]
  },
  {
   "cell_type": "markdown",
   "metadata": {},
   "source": [
    "## Part 1: Parsing data"
   ]
  },
  {
   "cell_type": "markdown",
   "metadata": {},
   "source": [
    "This section tests and loads the data from V-Dem. Skip this section if you're not interested in the technical details."
   ]
  },
  {
   "cell_type": "code",
   "execution_count": 1,
   "metadata": {},
   "outputs": [],
   "source": [
    "import numpy as np\n",
    "import matplotlib.pyplot as plt\n",
    "plt.style.use('ggplot')\n",
    "%matplotlib inline\n",
    "import pandas as pd"
   ]
  },
  {
   "cell_type": "code",
   "execution_count": 2,
   "metadata": {},
   "outputs": [],
   "source": [
    "from os import path\n",
    "#import warnings\n",
    "#warnings.filterwarnings(\"ignore\")\n",
    "\n",
    "vdem_file = './Country_Year_V-Dem_CSV_v8/V-Dem-CY-v8.csv'"
   ]
  },
  {
   "cell_type": "code",
   "execution_count": 3,
   "metadata": {},
   "outputs": [
    {
     "name": "stdout",
     "output_type": "stream",
     "text": [
      "File size in MB:\n",
      "484.73115062713623\n"
     ]
    }
   ],
   "source": [
    "print('File size in MB:')\n",
    "print(path.getsize(vdem_file) / (1<<20))"
   ]
  },
  {
   "cell_type": "code",
   "execution_count": 4,
   "metadata": {},
   "outputs": [
    {
     "name": "stdout",
     "output_type": "stream",
     "text": [
      "Number of rows in file:\n",
      "26538\n"
     ]
    }
   ],
   "source": [
    "print('Number of rows in file:')\n",
    "with open(vdem_file) as file:\n",
    "    print(sum(1 for line in file))"
   ]
  },
  {
   "cell_type": "code",
   "execution_count": 5,
   "metadata": {},
   "outputs": [
    {
     "name": "stderr",
     "output_type": "stream",
     "text": [
      "/home/maxim/anaconda3/lib/python3.7/site-packages/IPython/core/interactiveshell.py:3020: DtypeWarning: Columns (1042,1043,1315,2373,2422) have mixed types. Specify dtype option on import or set low_memory=False.\n",
      "  interactivity=interactivity, compiler=compiler, result=result)\n"
     ]
    }
   ],
   "source": [
    "vdem_data = pd.read_csv(vdem_file)"
   ]
  },
  {
   "cell_type": "code",
   "execution_count": 6,
   "metadata": {},
   "outputs": [
    {
     "data": {
      "text/html": [
       "<div>\n",
       "<style scoped>\n",
       "    .dataframe tbody tr th:only-of-type {\n",
       "        vertical-align: middle;\n",
       "    }\n",
       "\n",
       "    .dataframe tbody tr th {\n",
       "        vertical-align: top;\n",
       "    }\n",
       "\n",
       "    .dataframe thead th {\n",
       "        text-align: right;\n",
       "    }\n",
       "</style>\n",
       "<table border=\"1\" class=\"dataframe\">\n",
       "  <thead>\n",
       "    <tr style=\"text-align: right;\">\n",
       "      <th></th>\n",
       "      <th>country_name</th>\n",
       "      <th>country_text_id</th>\n",
       "      <th>country_id</th>\n",
       "      <th>year</th>\n",
       "      <th>historical_date</th>\n",
       "      <th>project</th>\n",
       "      <th>historical</th>\n",
       "      <th>histname</th>\n",
       "      <th>codingstart</th>\n",
       "      <th>codingend</th>\n",
       "      <th>...</th>\n",
       "      <th>v2xel_elecpres</th>\n",
       "      <th>v2xex_elecreg</th>\n",
       "      <th>v2xlg_elecreg</th>\n",
       "      <th>v2xlg_leginter</th>\n",
       "      <th>v2xme_altinf</th>\n",
       "      <th>v2xme_altinf_codehigh</th>\n",
       "      <th>v2xme_altinf_codelow</th>\n",
       "      <th>v2xps_party</th>\n",
       "      <th>v2xps_party_codehigh</th>\n",
       "      <th>v2xps_party_codelow</th>\n",
       "    </tr>\n",
       "  </thead>\n",
       "  <tbody>\n",
       "    <tr>\n",
       "      <th>0</th>\n",
       "      <td>Afghanistan</td>\n",
       "      <td>AFG</td>\n",
       "      <td>36</td>\n",
       "      <td>1789</td>\n",
       "      <td>1789-12-31</td>\n",
       "      <td>1</td>\n",
       "      <td>1</td>\n",
       "      <td>Emirate of Afghanistan (1789-1839)</td>\n",
       "      <td>1789</td>\n",
       "      <td>2017</td>\n",
       "      <td>...</td>\n",
       "      <td>0</td>\n",
       "      <td>0</td>\n",
       "      <td>0</td>\n",
       "      <td>0.0</td>\n",
       "      <td>NaN</td>\n",
       "      <td>NaN</td>\n",
       "      <td>NaN</td>\n",
       "      <td>NaN</td>\n",
       "      <td>NaN</td>\n",
       "      <td>NaN</td>\n",
       "    </tr>\n",
       "    <tr>\n",
       "      <th>1</th>\n",
       "      <td>Afghanistan</td>\n",
       "      <td>AFG</td>\n",
       "      <td>36</td>\n",
       "      <td>1790</td>\n",
       "      <td>1790-12-31</td>\n",
       "      <td>1</td>\n",
       "      <td>1</td>\n",
       "      <td>Emirate of Afghanistan (1789-1839)</td>\n",
       "      <td>1789</td>\n",
       "      <td>2017</td>\n",
       "      <td>...</td>\n",
       "      <td>0</td>\n",
       "      <td>0</td>\n",
       "      <td>0</td>\n",
       "      <td>0.0</td>\n",
       "      <td>NaN</td>\n",
       "      <td>NaN</td>\n",
       "      <td>NaN</td>\n",
       "      <td>NaN</td>\n",
       "      <td>NaN</td>\n",
       "      <td>NaN</td>\n",
       "    </tr>\n",
       "    <tr>\n",
       "      <th>2</th>\n",
       "      <td>Afghanistan</td>\n",
       "      <td>AFG</td>\n",
       "      <td>36</td>\n",
       "      <td>1791</td>\n",
       "      <td>1791-12-31</td>\n",
       "      <td>1</td>\n",
       "      <td>1</td>\n",
       "      <td>Emirate of Afghanistan (1789-1839)</td>\n",
       "      <td>1789</td>\n",
       "      <td>2017</td>\n",
       "      <td>...</td>\n",
       "      <td>0</td>\n",
       "      <td>0</td>\n",
       "      <td>0</td>\n",
       "      <td>0.0</td>\n",
       "      <td>NaN</td>\n",
       "      <td>NaN</td>\n",
       "      <td>NaN</td>\n",
       "      <td>NaN</td>\n",
       "      <td>NaN</td>\n",
       "      <td>NaN</td>\n",
       "    </tr>\n",
       "    <tr>\n",
       "      <th>3</th>\n",
       "      <td>Afghanistan</td>\n",
       "      <td>AFG</td>\n",
       "      <td>36</td>\n",
       "      <td>1792</td>\n",
       "      <td>1792-12-31</td>\n",
       "      <td>1</td>\n",
       "      <td>1</td>\n",
       "      <td>Emirate of Afghanistan (1789-1839)</td>\n",
       "      <td>1789</td>\n",
       "      <td>2017</td>\n",
       "      <td>...</td>\n",
       "      <td>0</td>\n",
       "      <td>0</td>\n",
       "      <td>0</td>\n",
       "      <td>0.0</td>\n",
       "      <td>NaN</td>\n",
       "      <td>NaN</td>\n",
       "      <td>NaN</td>\n",
       "      <td>NaN</td>\n",
       "      <td>NaN</td>\n",
       "      <td>NaN</td>\n",
       "    </tr>\n",
       "    <tr>\n",
       "      <th>4</th>\n",
       "      <td>Afghanistan</td>\n",
       "      <td>AFG</td>\n",
       "      <td>36</td>\n",
       "      <td>1793</td>\n",
       "      <td>1793-12-31</td>\n",
       "      <td>1</td>\n",
       "      <td>1</td>\n",
       "      <td>Emirate of Afghanistan (1789-1839)</td>\n",
       "      <td>1789</td>\n",
       "      <td>2017</td>\n",
       "      <td>...</td>\n",
       "      <td>0</td>\n",
       "      <td>0</td>\n",
       "      <td>0</td>\n",
       "      <td>0.0</td>\n",
       "      <td>NaN</td>\n",
       "      <td>NaN</td>\n",
       "      <td>NaN</td>\n",
       "      <td>NaN</td>\n",
       "      <td>NaN</td>\n",
       "      <td>NaN</td>\n",
       "    </tr>\n",
       "  </tbody>\n",
       "</table>\n",
       "<p>5 rows × 2692 columns</p>\n",
       "</div>"
      ],
      "text/plain": [
       "  country_name country_text_id  country_id  year historical_date  project  \\\n",
       "0  Afghanistan             AFG          36  1789      1789-12-31        1   \n",
       "1  Afghanistan             AFG          36  1790      1790-12-31        1   \n",
       "2  Afghanistan             AFG          36  1791      1791-12-31        1   \n",
       "3  Afghanistan             AFG          36  1792      1792-12-31        1   \n",
       "4  Afghanistan             AFG          36  1793      1793-12-31        1   \n",
       "\n",
       "   historical                            histname  codingstart  codingend  \\\n",
       "0           1  Emirate of Afghanistan (1789-1839)         1789       2017   \n",
       "1           1  Emirate of Afghanistan (1789-1839)         1789       2017   \n",
       "2           1  Emirate of Afghanistan (1789-1839)         1789       2017   \n",
       "3           1  Emirate of Afghanistan (1789-1839)         1789       2017   \n",
       "4           1  Emirate of Afghanistan (1789-1839)         1789       2017   \n",
       "\n",
       "          ...           v2xel_elecpres  v2xex_elecreg  v2xlg_elecreg  \\\n",
       "0         ...                        0              0              0   \n",
       "1         ...                        0              0              0   \n",
       "2         ...                        0              0              0   \n",
       "3         ...                        0              0              0   \n",
       "4         ...                        0              0              0   \n",
       "\n",
       "   v2xlg_leginter  v2xme_altinf  v2xme_altinf_codehigh  v2xme_altinf_codelow  \\\n",
       "0             0.0           NaN                    NaN                   NaN   \n",
       "1             0.0           NaN                    NaN                   NaN   \n",
       "2             0.0           NaN                    NaN                   NaN   \n",
       "3             0.0           NaN                    NaN                   NaN   \n",
       "4             0.0           NaN                    NaN                   NaN   \n",
       "\n",
       "   v2xps_party  v2xps_party_codehigh  v2xps_party_codelow  \n",
       "0          NaN                   NaN                  NaN  \n",
       "1          NaN                   NaN                  NaN  \n",
       "2          NaN                   NaN                  NaN  \n",
       "3          NaN                   NaN                  NaN  \n",
       "4          NaN                   NaN                  NaN  \n",
       "\n",
       "[5 rows x 2692 columns]"
      ]
     },
     "execution_count": 6,
     "metadata": {},
     "output_type": "execute_result"
    }
   ],
   "source": [
    "vdem_data.head()"
   ]
  },
  {
   "cell_type": "code",
   "execution_count": 7,
   "metadata": {},
   "outputs": [
    {
     "data": {
      "text/html": [
       "<div>\n",
       "<style scoped>\n",
       "    .dataframe tbody tr th:only-of-type {\n",
       "        vertical-align: middle;\n",
       "    }\n",
       "\n",
       "    .dataframe tbody tr th {\n",
       "        vertical-align: top;\n",
       "    }\n",
       "\n",
       "    .dataframe thead th {\n",
       "        text-align: right;\n",
       "    }\n",
       "</style>\n",
       "<table border=\"1\" class=\"dataframe\">\n",
       "  <thead>\n",
       "    <tr style=\"text-align: right;\">\n",
       "      <th></th>\n",
       "      <th></th>\n",
       "      <th>country_text_id</th>\n",
       "      <th>country_id</th>\n",
       "      <th>historical_date</th>\n",
       "      <th>project</th>\n",
       "      <th>historical</th>\n",
       "      <th>histname</th>\n",
       "      <th>codingstart</th>\n",
       "      <th>codingend</th>\n",
       "      <th>codingstart_contemp</th>\n",
       "      <th>codingend_contemp</th>\n",
       "      <th>...</th>\n",
       "      <th>v2xel_elecpres</th>\n",
       "      <th>v2xex_elecreg</th>\n",
       "      <th>v2xlg_elecreg</th>\n",
       "      <th>v2xlg_leginter</th>\n",
       "      <th>v2xme_altinf</th>\n",
       "      <th>v2xme_altinf_codehigh</th>\n",
       "      <th>v2xme_altinf_codelow</th>\n",
       "      <th>v2xps_party</th>\n",
       "      <th>v2xps_party_codehigh</th>\n",
       "      <th>v2xps_party_codelow</th>\n",
       "    </tr>\n",
       "    <tr>\n",
       "      <th>country_name</th>\n",
       "      <th>year</th>\n",
       "      <th></th>\n",
       "      <th></th>\n",
       "      <th></th>\n",
       "      <th></th>\n",
       "      <th></th>\n",
       "      <th></th>\n",
       "      <th></th>\n",
       "      <th></th>\n",
       "      <th></th>\n",
       "      <th></th>\n",
       "      <th></th>\n",
       "      <th></th>\n",
       "      <th></th>\n",
       "      <th></th>\n",
       "      <th></th>\n",
       "      <th></th>\n",
       "      <th></th>\n",
       "      <th></th>\n",
       "      <th></th>\n",
       "      <th></th>\n",
       "      <th></th>\n",
       "    </tr>\n",
       "  </thead>\n",
       "  <tbody>\n",
       "    <tr>\n",
       "      <th rowspan=\"5\" valign=\"top\">Afghanistan</th>\n",
       "      <th>1789</th>\n",
       "      <td>AFG</td>\n",
       "      <td>36</td>\n",
       "      <td>1789-12-31</td>\n",
       "      <td>1</td>\n",
       "      <td>1</td>\n",
       "      <td>Emirate of Afghanistan (1789-1839)</td>\n",
       "      <td>1789</td>\n",
       "      <td>2017</td>\n",
       "      <td>1900.0</td>\n",
       "      <td>2017.0</td>\n",
       "      <td>...</td>\n",
       "      <td>0</td>\n",
       "      <td>0</td>\n",
       "      <td>0</td>\n",
       "      <td>0.0</td>\n",
       "      <td>NaN</td>\n",
       "      <td>NaN</td>\n",
       "      <td>NaN</td>\n",
       "      <td>NaN</td>\n",
       "      <td>NaN</td>\n",
       "      <td>NaN</td>\n",
       "    </tr>\n",
       "    <tr>\n",
       "      <th>1790</th>\n",
       "      <td>AFG</td>\n",
       "      <td>36</td>\n",
       "      <td>1790-12-31</td>\n",
       "      <td>1</td>\n",
       "      <td>1</td>\n",
       "      <td>Emirate of Afghanistan (1789-1839)</td>\n",
       "      <td>1789</td>\n",
       "      <td>2017</td>\n",
       "      <td>1900.0</td>\n",
       "      <td>2017.0</td>\n",
       "      <td>...</td>\n",
       "      <td>0</td>\n",
       "      <td>0</td>\n",
       "      <td>0</td>\n",
       "      <td>0.0</td>\n",
       "      <td>NaN</td>\n",
       "      <td>NaN</td>\n",
       "      <td>NaN</td>\n",
       "      <td>NaN</td>\n",
       "      <td>NaN</td>\n",
       "      <td>NaN</td>\n",
       "    </tr>\n",
       "    <tr>\n",
       "      <th>1791</th>\n",
       "      <td>AFG</td>\n",
       "      <td>36</td>\n",
       "      <td>1791-12-31</td>\n",
       "      <td>1</td>\n",
       "      <td>1</td>\n",
       "      <td>Emirate of Afghanistan (1789-1839)</td>\n",
       "      <td>1789</td>\n",
       "      <td>2017</td>\n",
       "      <td>1900.0</td>\n",
       "      <td>2017.0</td>\n",
       "      <td>...</td>\n",
       "      <td>0</td>\n",
       "      <td>0</td>\n",
       "      <td>0</td>\n",
       "      <td>0.0</td>\n",
       "      <td>NaN</td>\n",
       "      <td>NaN</td>\n",
       "      <td>NaN</td>\n",
       "      <td>NaN</td>\n",
       "      <td>NaN</td>\n",
       "      <td>NaN</td>\n",
       "    </tr>\n",
       "    <tr>\n",
       "      <th>1792</th>\n",
       "      <td>AFG</td>\n",
       "      <td>36</td>\n",
       "      <td>1792-12-31</td>\n",
       "      <td>1</td>\n",
       "      <td>1</td>\n",
       "      <td>Emirate of Afghanistan (1789-1839)</td>\n",
       "      <td>1789</td>\n",
       "      <td>2017</td>\n",
       "      <td>1900.0</td>\n",
       "      <td>2017.0</td>\n",
       "      <td>...</td>\n",
       "      <td>0</td>\n",
       "      <td>0</td>\n",
       "      <td>0</td>\n",
       "      <td>0.0</td>\n",
       "      <td>NaN</td>\n",
       "      <td>NaN</td>\n",
       "      <td>NaN</td>\n",
       "      <td>NaN</td>\n",
       "      <td>NaN</td>\n",
       "      <td>NaN</td>\n",
       "    </tr>\n",
       "    <tr>\n",
       "      <th>1793</th>\n",
       "      <td>AFG</td>\n",
       "      <td>36</td>\n",
       "      <td>1793-12-31</td>\n",
       "      <td>1</td>\n",
       "      <td>1</td>\n",
       "      <td>Emirate of Afghanistan (1789-1839)</td>\n",
       "      <td>1789</td>\n",
       "      <td>2017</td>\n",
       "      <td>1900.0</td>\n",
       "      <td>2017.0</td>\n",
       "      <td>...</td>\n",
       "      <td>0</td>\n",
       "      <td>0</td>\n",
       "      <td>0</td>\n",
       "      <td>0.0</td>\n",
       "      <td>NaN</td>\n",
       "      <td>NaN</td>\n",
       "      <td>NaN</td>\n",
       "      <td>NaN</td>\n",
       "      <td>NaN</td>\n",
       "      <td>NaN</td>\n",
       "    </tr>\n",
       "  </tbody>\n",
       "</table>\n",
       "<p>5 rows × 2690 columns</p>\n",
       "</div>"
      ],
      "text/plain": [
       "                  country_text_id  country_id historical_date  project  \\\n",
       "country_name year                                                        \n",
       "Afghanistan  1789             AFG          36      1789-12-31        1   \n",
       "             1790             AFG          36      1790-12-31        1   \n",
       "             1791             AFG          36      1791-12-31        1   \n",
       "             1792             AFG          36      1792-12-31        1   \n",
       "             1793             AFG          36      1793-12-31        1   \n",
       "\n",
       "                   historical                            histname  \\\n",
       "country_name year                                                   \n",
       "Afghanistan  1789           1  Emirate of Afghanistan (1789-1839)   \n",
       "             1790           1  Emirate of Afghanistan (1789-1839)   \n",
       "             1791           1  Emirate of Afghanistan (1789-1839)   \n",
       "             1792           1  Emirate of Afghanistan (1789-1839)   \n",
       "             1793           1  Emirate of Afghanistan (1789-1839)   \n",
       "\n",
       "                   codingstart  codingend  codingstart_contemp  \\\n",
       "country_name year                                                \n",
       "Afghanistan  1789         1789       2017               1900.0   \n",
       "             1790         1789       2017               1900.0   \n",
       "             1791         1789       2017               1900.0   \n",
       "             1792         1789       2017               1900.0   \n",
       "             1793         1789       2017               1900.0   \n",
       "\n",
       "                   codingend_contemp         ...           v2xel_elecpres  \\\n",
       "country_name year                            ...                            \n",
       "Afghanistan  1789             2017.0         ...                        0   \n",
       "             1790             2017.0         ...                        0   \n",
       "             1791             2017.0         ...                        0   \n",
       "             1792             2017.0         ...                        0   \n",
       "             1793             2017.0         ...                        0   \n",
       "\n",
       "                   v2xex_elecreg  v2xlg_elecreg  v2xlg_leginter  v2xme_altinf  \\\n",
       "country_name year                                                               \n",
       "Afghanistan  1789              0              0             0.0           NaN   \n",
       "             1790              0              0             0.0           NaN   \n",
       "             1791              0              0             0.0           NaN   \n",
       "             1792              0              0             0.0           NaN   \n",
       "             1793              0              0             0.0           NaN   \n",
       "\n",
       "                   v2xme_altinf_codehigh  v2xme_altinf_codelow  v2xps_party  \\\n",
       "country_name year                                                             \n",
       "Afghanistan  1789                    NaN                   NaN          NaN   \n",
       "             1790                    NaN                   NaN          NaN   \n",
       "             1791                    NaN                   NaN          NaN   \n",
       "             1792                    NaN                   NaN          NaN   \n",
       "             1793                    NaN                   NaN          NaN   \n",
       "\n",
       "                   v2xps_party_codehigh  v2xps_party_codelow  \n",
       "country_name year                                             \n",
       "Afghanistan  1789                   NaN                  NaN  \n",
       "             1790                   NaN                  NaN  \n",
       "             1791                   NaN                  NaN  \n",
       "             1792                   NaN                  NaN  \n",
       "             1793                   NaN                  NaN  \n",
       "\n",
       "[5 rows x 2690 columns]"
      ]
     },
     "execution_count": 7,
     "metadata": {},
     "output_type": "execute_result"
    }
   ],
   "source": [
    "vdem_indexed = vdem_data.set_index(['country_name', 'year'])\n",
    "vdem_indexed.head()"
   ]
  },
  {
   "cell_type": "markdown",
   "metadata": {},
   "source": [
    "## Part 2: Extracting and plotting data"
   ]
  },
  {
   "cell_type": "markdown",
   "metadata": {},
   "source": [
    "Let's begin now with extracting data for countries we are interested in and make some initial plots."
   ]
  },
  {
   "cell_type": "code",
   "execution_count": 8,
   "metadata": {},
   "outputs": [],
   "source": [
    "# Function to get data of a particular country by year.\n",
    "def get_year_of_country(country, year):\n",
    "    data = vdem_indexed.loc[country].loc[year]\n",
    "    return data[data.notnull()]"
   ]
  },
  {
   "cell_type": "code",
   "execution_count": 9,
   "metadata": {},
   "outputs": [
    {
     "data": {
      "text/plain": [
       "country_text_id                                             DEU\n",
       "country_id                                                   77\n",
       "historical_date                                      2017-12-31\n",
       "project                                                       0\n",
       "historical                                                    1\n",
       "histname                  Federal Republic of Germany (1949- ).\n",
       "codingstart                                                1789\n",
       "codingend                                                  2017\n",
       "codingstart_contemp                                        1900\n",
       "codingend_contemp                                          2017\n",
       "codingstart_hist                                           1789\n",
       "codingend_hist                                             1920\n",
       "gapstart1                                                  1945\n",
       "gapend1                                                    1948\n",
       "COWcode                                                     255\n",
       "v2x_polyarchy                                           0.86323\n",
       "v2x_polyarchy_codehigh                                  0.90879\n",
       "v2x_polyarchy_codelow                                  0.818762\n",
       "v2x_libdem                                             0.808903\n",
       "v2x_libdem_codehigh                                    0.857837\n",
       "Name: 2017, dtype: object"
      ]
     },
     "execution_count": 9,
     "metadata": {},
     "output_type": "execute_result"
    }
   ],
   "source": [
    "get_year_of_country('Germany', 2017).head(20)"
   ]
  },
  {
   "cell_type": "code",
   "execution_count": 10,
   "metadata": {},
   "outputs": [],
   "source": [
    "# Function to get particular index of country as it evolves over the years.\n",
    "def get_index_of_country(country, index):\n",
    "    data = vdem_indexed.loc[country][index]\n",
    "    return data[data.notnull()]"
   ]
  },
  {
   "cell_type": "code",
   "execution_count": 11,
   "metadata": {},
   "outputs": [
    {
     "data": {
      "text/plain": [
       "year\n",
       "1905    0.044755\n",
       "1906    0.042686\n",
       "1907    0.042686\n",
       "1908    0.045832\n",
       "1909    0.045832\n",
       "Name: v2x_polyarchy, dtype: float64"
      ]
     },
     "execution_count": 11,
     "metadata": {},
     "output_type": "execute_result"
    }
   ],
   "source": [
    "get_index_of_country('Afghanistan', 'v2x_polyarchy').head()"
   ]
  },
  {
   "cell_type": "code",
   "execution_count": 12,
   "metadata": {},
   "outputs": [],
   "source": [
    "# Function to plot index evolution.\n",
    "def plot_index_of_country(country, index):\n",
    "    data = get_index_of_country(country, index)\n",
    "    \n",
    "    plt.plot(data.index, data.values)"
   ]
  },
  {
   "cell_type": "markdown",
   "metadata": {},
   "source": [
    "Let's plot the electoral democratization trends of five post-soviet countries."
   ]
  },
  {
   "cell_type": "code",
   "execution_count": 13,
   "metadata": {},
   "outputs": [
    {
     "data": {
      "image/png": "[encoded data removed]",
      "text/plain": [
       "<Figure size 864x252 with 1 Axes>"
      ]
     },
     "metadata": {
      "needs_background": "light"
     },
     "output_type": "display_data"
    }
   ],
   "source": [
    "plt.figure(figsize = (12, 3.5))\n",
    "\n",
    "countries = ['Afghanistan', 'Russia', 'Uzbekistan', 'Kazakhstan', 'Turkmenistan']\n",
    "\n",
    "for country in countries:\n",
    "    plot_index_of_country(country, 'v2x_polyarchy')\n",
    "\n",
    "plt.legend(countries)\n",
    "plt.title('Extent of ideal electoral democracy achieved as a function of year')\n",
    "plt.ylabel('Scale from 0 to 1')\n",
    "plt.xlim([1990, 2017])\n",
    "plt.show()"
   ]
  },
  {
   "cell_type": "code",
   "execution_count": 14,
   "metadata": {},
   "outputs": [],
   "source": [
    "democracies = {'electoral': 'v2x_polyarchy', 'liberal': 'v2x_libdem', 'participatory': 'v2x_partipdem', 'deliberative': 'v2x_delibdem'}"
   ]
  },
  {
   "cell_type": "markdown",
   "metadata": {},
   "source": [
    "Now let's see how different types of democracies have evolved in a particular country."
   ]
  },
  {
   "cell_type": "code",
   "execution_count": 15,
   "metadata": {},
   "outputs": [],
   "source": [
    "# Function to get all types of democracies in a particular country.\n",
    "def get_democracies_of_country(country):\n",
    "    data = vdem_indexed[list(democracies.values())].loc[country]\n",
    "    return data[data.notnull()]"
   ]
  },
  {
   "cell_type": "code",
   "execution_count": 16,
   "metadata": {},
   "outputs": [
    {
     "data": {
      "text/html": [
       "<div>\n",
       "<style scoped>\n",
       "    .dataframe tbody tr th:only-of-type {\n",
       "        vertical-align: middle;\n",
       "    }\n",
       "\n",
       "    .dataframe tbody tr th {\n",
       "        vertical-align: top;\n",
       "    }\n",
       "\n",
       "    .dataframe thead th {\n",
       "        text-align: right;\n",
       "    }\n",
       "</style>\n",
       "<table border=\"1\" class=\"dataframe\">\n",
       "  <thead>\n",
       "    <tr style=\"text-align: right;\">\n",
       "      <th></th>\n",
       "      <th>v2x_polyarchy</th>\n",
       "      <th>v2x_libdem</th>\n",
       "      <th>v2x_partipdem</th>\n",
       "      <th>v2x_delibdem</th>\n",
       "    </tr>\n",
       "    <tr>\n",
       "      <th>year</th>\n",
       "      <th></th>\n",
       "      <th></th>\n",
       "      <th></th>\n",
       "      <th></th>\n",
       "    </tr>\n",
       "  </thead>\n",
       "  <tbody>\n",
       "    <tr>\n",
       "      <th>1789</th>\n",
       "      <td>NaN</td>\n",
       "      <td>NaN</td>\n",
       "      <td>NaN</td>\n",
       "      <td>NaN</td>\n",
       "    </tr>\n",
       "    <tr>\n",
       "      <th>1790</th>\n",
       "      <td>NaN</td>\n",
       "      <td>NaN</td>\n",
       "      <td>NaN</td>\n",
       "      <td>NaN</td>\n",
       "    </tr>\n",
       "    <tr>\n",
       "      <th>1791</th>\n",
       "      <td>NaN</td>\n",
       "      <td>NaN</td>\n",
       "      <td>NaN</td>\n",
       "      <td>NaN</td>\n",
       "    </tr>\n",
       "    <tr>\n",
       "      <th>1792</th>\n",
       "      <td>NaN</td>\n",
       "      <td>NaN</td>\n",
       "      <td>NaN</td>\n",
       "      <td>NaN</td>\n",
       "    </tr>\n",
       "    <tr>\n",
       "      <th>1793</th>\n",
       "      <td>NaN</td>\n",
       "      <td>NaN</td>\n",
       "      <td>NaN</td>\n",
       "      <td>NaN</td>\n",
       "    </tr>\n",
       "  </tbody>\n",
       "</table>\n",
       "</div>"
      ],
      "text/plain": [
       "      v2x_polyarchy  v2x_libdem  v2x_partipdem  v2x_delibdem\n",
       "year                                                        \n",
       "1789            NaN         NaN            NaN           NaN\n",
       "1790            NaN         NaN            NaN           NaN\n",
       "1791            NaN         NaN            NaN           NaN\n",
       "1792            NaN         NaN            NaN           NaN\n",
       "1793            NaN         NaN            NaN           NaN"
      ]
     },
     "execution_count": 16,
     "metadata": {},
     "output_type": "execute_result"
    }
   ],
   "source": [
    "get_democracies_of_country('Afghanistan').head()"
   ]
  },
  {
   "cell_type": "code",
   "execution_count": 17,
   "metadata": {},
   "outputs": [],
   "source": [
    "# Function to plot evolution of all democracy types.\n",
    "def plot_democracies_of_country(country):\n",
    "    data = get_democracies_of_country(country)\n",
    "    \n",
    "    for democracy in democracies.values():\n",
    "        plt.plot(data.index, data[democracy])"
   ]
  },
  {
   "cell_type": "markdown",
   "metadata": {},
   "source": [
    "Now let's see how different democratization trends have evolved in Afghanistan..."
   ]
  },
  {
   "cell_type": "code",
   "execution_count": 18,
   "metadata": {},
   "outputs": [
    {
     "data": {
      "image/png": "[encoded data removed]",
      "text/plain": [
       "<Figure size 864x252 with 1 Axes>"
      ]
     },
     "metadata": {
      "needs_background": "light"
     },
     "output_type": "display_data"
    }
   ],
   "source": [
    "plt.figure(figsize = (12, 3.5))\n",
    "\n",
    "plot_democracies_of_country('Afghanistan')\n",
    "\n",
    "plt.legend(democracies)\n",
    "plt.title('Extent of ideal type of democracy achieved in Afghanistan as a function of year')\n",
    "plt.ylabel('Scale from 0 to 1')\n",
    "plt.xlim([1990, 2017])\n",
    "plt.show()"
   ]
  },
  {
   "cell_type": "markdown",
   "metadata": {},
   "source": [
    "...and in Turkmenistan."
   ]
  },
  {
   "cell_type": "code",
   "execution_count": 19,
   "metadata": {},
   "outputs": [
    {
     "data": {
      "image/png": "[encoded data removed]",
      "text/plain": [
       "<Figure size 864x252 with 1 Axes>"
      ]
     },
     "metadata": {
      "needs_background": "light"
     },
     "output_type": "display_data"
    }
   ],
   "source": [
    "plt.figure(figsize = (12, 3.5))\n",
    "\n",
    "plot_democracies_of_country('Turkmenistan')\n",
    "\n",
    "plt.legend(democracies)\n",
    "plt.title('Extent of ideal type of democracy achieved in Turkmenistan as a function of year')\n",
    "plt.ylabel('Scale from 0 to 1')\n",
    "plt.xlim([1990, 2017])\n",
    "plt.show()"
   ]
  },
  {
   "cell_type": "markdown",
   "metadata": {},
   "source": [
    "Note the dip in 2007. What happened?"
   ]
  },
  {
   "cell_type": "code",
   "execution_count": null,
   "metadata": {},
   "outputs": [],
   "source": []
  }
 ],
 "metadata": {
  "kernelspec": {
   "display_name": "Python 3",
   "language": "python",
   "name": "python3"
  },
  "language_info": {
   "codemirror_mode": {
    "name": "ipython",
    "version": 3
   },
   "file_extension": ".py",
   "mimetype": "text/x-python",
   "name": "python",
   "nbconvert_exporter": "python",
   "pygments_lexer": "ipython3",
   "version": "3.7.1"
  }
 },
 "nbformat": 4,
 "nbformat_minor": 2
}
